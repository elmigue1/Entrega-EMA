{
  "nbformat": 4,
  "nbformat_minor": 5,
  "metadata": {
    "colab": {
      "name": "EMA_EDA.ipynb",
      "provenance": [],
      "collapsed_sections": [
        "73db928b",
        "f551c38d",
        "5b28b4ae",
        "4dc8eae5",
        "cadBdj_KGCnR",
        "32D6stFNGoq2",
        "v1kTgjtYHh8D",
        "at_pK8UQHt8k",
        "gMTGfMy0JT8A",
        "sxeqO2huldds"
      ]
    },
    "kernelspec": {
      "display_name": "Python 3 (ipykernel)",
      "language": "python",
      "name": "python3"
    },
    "language_info": {
      "codemirror_mode": {
        "name": "ipython",
        "version": 3
      },
      "file_extension": ".py",
      "mimetype": "text/x-python",
      "name": "python",
      "nbconvert_exporter": "python",
      "pygments_lexer": "ipython3",
      "version": "3.9.7"
    },
    "accelerator": "GPU"
  },
  "cells": [
    {
      "cell_type": "markdown",
      "metadata": {
        "id": "4c86ae51"
      },
      "source": [
        "# 0. Import Libraries"
      ],
      "id": "4c86ae51"
    },
    {
      "cell_type": "code",
      "metadata": {
        "id": "7fef551b"
      },
      "source": [
        "import pandas as pd\n",
        "import numpy as np\n",
        "import matplotlib.pyplot as plt\n",
        "import seaborn as sns\n",
        "from sklearn.svm import SVC\n",
        "from sklearn import metrics\n",
        "from sklearn.model_selection import train_test_split\n",
        "from sklearn.metrics import classification_report\n",
        "from sklearn.ensemble import RandomForestClassifier\n",
        "from imblearn.under_sampling import RandomUnderSampler\n",
        "from imblearn.over_sampling import RandomOverSampler\n",
        "from collections import Counter\n",
        "from sklearn.model_selection import cross_val_score\n",
        "from sklearn.metrics import confusion_matrix\n",
        "from sklearn.metrics import plot_confusion_matrix\n",
        "from imblearn.under_sampling import NearMiss\n",
        "from imblearn.under_sampling import TomekLinks\n",
        "from sklearn.metrics import roc_auc_score\n",
        "from sklearn.model_selection import GridSearchCV\n",
        "from sklearn.model_selection import learning_curve\n",
        "import multiprocessing as mp\n",
        "import pickle"
      ],
      "id": "7fef551b",
      "execution_count": null,
      "outputs": []
    },
    {
      "cell_type": "markdown",
      "metadata": {
        "id": "73db928b"
      },
      "source": [
        "# 1. EDA Pipeline"
      ],
      "id": "73db928b"
    },
    {
      "cell_type": "code",
      "metadata": {
        "id": "7c567dc3"
      },
      "source": [
        "def amount_descriptive_stats(data, column='transaction_type'):\n",
        "    if column in ['transaction_type', 'channel']: \n",
        "        df = pd.DataFrame([])\n",
        "        for trans in data['transaction_type'].unique():\n",
        "            df = df.append(data[data['transaction_type']==trans]['amount'].describe().rename(trans))\n",
        "\n",
        "        df = df.T\n",
        "        return df\n",
        "    else: \n",
        "        raise ValueError(f'Column: \\'{column}\\' not supported') "
      ],
      "id": "7c567dc3",
      "execution_count": null,
      "outputs": []
    },
    {
      "cell_type": "code",
      "metadata": {
        "id": "9cb9227a"
      },
      "source": [
        "def percentages(data, plot=True):\n",
        "    \n",
        "    # Plot pie chart\n",
        "    if plot:\n",
        "        plt.figure(figsize=(5,5))\n",
        "        data['flag'].value_counts().plot(kind='pie')\n",
        "        plt.title('Flag pie chart')\n",
        "        plt.show()\n",
        "    \n",
        "    #Percentages\n",
        "    print(f'Percentage of {data.flag.value_counts().index[0]}: {100*data.flag.value_counts()[0]/sum(data.flag.value_counts())}')\n",
        "    print(f'Percentage of {data.flag.value_counts().index[1]}: {100*data.flag.value_counts()[1]/sum(data.flag.value_counts())}')"
      ],
      "id": "9cb9227a",
      "execution_count": null,
      "outputs": []
    },
    {
      "cell_type": "code",
      "metadata": {
        "id": "9a18e5a3"
      },
      "source": [
        "def exploratory_visualization(data, column='transaction_type', plt_type='bar'):\n",
        "    \n",
        "    if column in ['transaction_type', 'channel']: \n",
        "        if plt_type=='bar':\n",
        "            plt.figure(figsize=(15,15))\n",
        "            i=0\n",
        "            for trans in data[column].unique():\n",
        "                i+=1\n",
        "                ax = plt.subplot(5, 5, i)\n",
        "                plt.boxplot(data[data[column]==trans]['amount'])\n",
        "                plt.title(trans)\n",
        "            plt.tight_layout(h_pad=1 , w_pad=1.5)\n",
        "            #plt.suptitle('Boxplots of amount per transaction type',  fontsize=25)\n",
        "            plt.show()\n",
        "        elif plt_type=='hist':\n",
        "            plt.figure(figsize=(15,15))\n",
        "            i=0\n",
        "            for trans in data[column].unique():\n",
        "                i+=1\n",
        "                ax = plt.subplot(5, 5, i)\n",
        "                plt.hist(data[data[column]==trans]['amount'])\n",
        "                plt.title(trans)\n",
        "            plt.tight_layout(h_pad=1 , w_pad=1.5)\n",
        "            #plt.suptitle('Boxplots of amount per transaction type',  fontsize=25)\n",
        "            plt.show()\n",
        "        else:\n",
        "            raise ValueError(f'Plot type: \\'{plt_type}\\' not supported')       \n",
        "    else: \n",
        "        raise ValueError(f'Column: \\'{column}\\' not supported') "
      ],
      "id": "9a18e5a3",
      "execution_count": null,
      "outputs": []
    },
    {
      "cell_type": "code",
      "metadata": {
        "id": "21574aa0",
        "scrolled": true
      },
      "source": [
        "def transactions_type(data, plot=True):\n",
        "    if plot:\n",
        "        data['channel'].value_counts().plot(kind='barh')\n",
        "        plt.title('Number of transtactions per type')\n",
        "        plt.show()\n",
        "        \n",
        "    return transactions['channel'].value_counts()"
      ],
      "id": "21574aa0",
      "execution_count": null,
      "outputs": []
    },
    {
      "cell_type": "markdown",
      "metadata": {
        "id": "dce14340"
      },
      "source": [
        "# Read data"
      ],
      "id": "dce14340"
    },
    {
      "cell_type": "code",
      "metadata": {
        "id": "479f9f87",
        "scrolled": true,
        "colab": {
          "base_uri": "https://localhost:8080/"
        },
        "outputId": "f7a74bc2-d6d7-44f1-eaea-51a4fc87bfcf"
      },
      "source": [
        "transactions = [pd.read_csv('sim4.csv', delimiter=';'), pd.read_csv('sim5.csv', delimiter=';'),pd.read_csv('sim1.csv', delimiter=',')]"
      ],
      "id": "479f9f87",
      "execution_count": null,
      "outputs": [
        {
          "output_type": "stream",
          "name": "stderr",
          "text": [
            "/usr/local/lib/python3.7/dist-packages/IPython/core/interactiveshell.py:2718: DtypeWarning: Columns (10) have mixed types.Specify dtype option on import or set low_memory=False.\n",
            "  interactivity=interactivity, compiler=compiler, result=result)\n"
          ]
        }
      ]
    },
    {
      "cell_type": "markdown",
      "metadata": {
        "id": "f551c38d"
      },
      "source": [
        "# Explore data"
      ],
      "id": "f551c38d"
    },
    {
      "cell_type": "code",
      "metadata": {
        "id": "f5877c6c",
        "colab": {
          "base_uri": "https://localhost:8080/",
          "height": 165
        },
        "outputId": "e21d3ede-d529-450a-ca32-df24f61465a7"
      },
      "source": [
        "transactions.info()"
      ],
      "id": "f5877c6c",
      "execution_count": null,
      "outputs": [
        {
          "output_type": "error",
          "ename": "AttributeError",
          "evalue": "ignored",
          "traceback": [
            "\u001b[0;31m---------------------------------------------------------------------------\u001b[0m",
            "\u001b[0;31mAttributeError\u001b[0m                            Traceback (most recent call last)",
            "\u001b[0;32m<ipython-input-7-150c0417f747>\u001b[0m in \u001b[0;36m<module>\u001b[0;34m()\u001b[0m\n\u001b[0;32m----> 1\u001b[0;31m \u001b[0mtransactions\u001b[0m\u001b[0;34m.\u001b[0m\u001b[0minfo\u001b[0m\u001b[0;34m(\u001b[0m\u001b[0;34m)\u001b[0m\u001b[0;34m\u001b[0m\u001b[0;34m\u001b[0m\u001b[0m\n\u001b[0m",
            "\u001b[0;31mAttributeError\u001b[0m: 'list' object has no attribute 'info'"
          ]
        }
      ]
    },
    {
      "cell_type": "code",
      "metadata": {
        "id": "466f67e7",
        "colab": {
          "base_uri": "https://localhost:8080/",
          "height": 165
        },
        "outputId": "c56faeea-1176-4721-c563-e1b3f07c7340"
      },
      "source": [
        "transactions.head()"
      ],
      "id": "466f67e7",
      "execution_count": null,
      "outputs": [
        {
          "output_type": "error",
          "ename": "AttributeError",
          "evalue": "ignored",
          "traceback": [
            "\u001b[0;31m---------------------------------------------------------------------------\u001b[0m",
            "\u001b[0;31mAttributeError\u001b[0m                            Traceback (most recent call last)",
            "\u001b[0;32m<ipython-input-8-e18f163f63b0>\u001b[0m in \u001b[0;36m<module>\u001b[0;34m()\u001b[0m\n\u001b[0;32m----> 1\u001b[0;31m \u001b[0mtransactions\u001b[0m\u001b[0;34m.\u001b[0m\u001b[0mhead\u001b[0m\u001b[0;34m(\u001b[0m\u001b[0;34m)\u001b[0m\u001b[0;34m\u001b[0m\u001b[0;34m\u001b[0m\u001b[0m\n\u001b[0m",
            "\u001b[0;31mAttributeError\u001b[0m: 'list' object has no attribute 'head'"
          ]
        }
      ]
    },
    {
      "cell_type": "code",
      "metadata": {
        "id": "050a22fc"
      },
      "source": [
        "len(transactions['channel'].unique())"
      ],
      "id": "050a22fc",
      "execution_count": null,
      "outputs": []
    },
    {
      "cell_type": "code",
      "metadata": {
        "id": "d8a68786"
      },
      "source": [
        "transactions.tail()"
      ],
      "id": "d8a68786",
      "execution_count": null,
      "outputs": []
    },
    {
      "cell_type": "code",
      "metadata": {
        "id": "dcd69590"
      },
      "source": [
        "transactions.columns"
      ],
      "id": "dcd69590",
      "execution_count": null,
      "outputs": []
    },
    {
      "cell_type": "code",
      "metadata": {
        "id": "b9e30f7e",
        "scrolled": false
      },
      "source": [
        "transactions.shape"
      ],
      "id": "b9e30f7e",
      "execution_count": null,
      "outputs": []
    },
    {
      "cell_type": "code",
      "metadata": {
        "id": "7712bba5",
        "scrolled": true
      },
      "source": [
        "amount_descriptive_stats(transactions)"
      ],
      "id": "7712bba5",
      "execution_count": null,
      "outputs": []
    },
    {
      "cell_type": "code",
      "metadata": {
        "id": "1c85470f",
        "scrolled": false
      },
      "source": [
        "percentages(transactions)"
      ],
      "id": "1c85470f",
      "execution_count": null,
      "outputs": []
    },
    {
      "cell_type": "code",
      "metadata": {
        "id": "f8e6ff82"
      },
      "source": [
        "transactions[transactions['transaction_type']=='bribe']['amount']"
      ],
      "id": "f8e6ff82",
      "execution_count": null,
      "outputs": []
    },
    {
      "cell_type": "code",
      "metadata": {
        "id": "28a2ab55"
      },
      "source": [
        "exploratory_visualization(transactions, column='channel' ,plt_type='hist')"
      ],
      "id": "28a2ab55",
      "execution_count": null,
      "outputs": []
    },
    {
      "cell_type": "code",
      "metadata": {
        "id": "4560f2c5"
      },
      "source": [
        "transactions_type(transactions, plot=True)"
      ],
      "id": "4560f2c5",
      "execution_count": null,
      "outputs": []
    },
    {
      "cell_type": "code",
      "metadata": {
        "id": "5ab58dda"
      },
      "source": [
        ""
      ],
      "id": "5ab58dda",
      "execution_count": null,
      "outputs": []
    },
    {
      "cell_type": "code",
      "metadata": {
        "id": "523fd841"
      },
      "source": [
        ""
      ],
      "id": "523fd841",
      "execution_count": null,
      "outputs": []
    },
    {
      "cell_type": "code",
      "metadata": {
        "id": "ed5fe82f"
      },
      "source": [
        ""
      ],
      "id": "ed5fe82f",
      "execution_count": null,
      "outputs": []
    },
    {
      "cell_type": "markdown",
      "metadata": {
        "id": "5b28b4ae"
      },
      "source": [
        "# One hot encoding"
      ],
      "id": "5b28b4ae"
    },
    {
      "cell_type": "code",
      "metadata": {
        "id": "RLbv_VyYt8XQ"
      },
      "source": [
        "def float_to_string(x):\n",
        "    if type(x) == float:\n",
        "        return str(x)\n",
        "    else:\n",
        "        return x"
      ],
      "id": "RLbv_VyYt8XQ",
      "execution_count": null,
      "outputs": []
    },
    {
      "cell_type": "code",
      "metadata": {
        "id": "fhYUtnijuBG3"
      },
      "source": [
        "transactions[2]['transaction_type'] = transactions[2]['transaction_type'].apply(lambda x: float_to_string(x))"
      ],
      "id": "fhYUtnijuBG3",
      "execution_count": null,
      "outputs": []
    },
    {
      "cell_type": "code",
      "metadata": {
        "id": "Rt_QTKrB9TeJ"
      },
      "source": [
        "transactions_one_hot = [pd.get_dummies(data, columns=['channel', 'transaction_type']) for data in transactions]"
      ],
      "id": "Rt_QTKrB9TeJ",
      "execution_count": null,
      "outputs": []
    },
    {
      "cell_type": "code",
      "metadata": {
        "id": "03943e81",
        "colab": {
          "base_uri": "https://localhost:8080/"
        },
        "outputId": "49255bca-68c0-45af-b6cb-4bd7944731b5"
      },
      "source": [
        "transactions[1].head()"
      ],
      "id": "03943e81",
      "execution_count": null,
      "outputs": [
        {
          "output_type": "execute_result",
          "data": {
            "text/html": [
              "<div>\n",
              "<style scoped>\n",
              "    .dataframe tbody tr th:only-of-type {\n",
              "        vertical-align: middle;\n",
              "    }\n",
              "\n",
              "    .dataframe tbody tr th {\n",
              "        vertical-align: top;\n",
              "    }\n",
              "\n",
              "    .dataframe thead th {\n",
              "        text-align: right;\n",
              "    }\n",
              "</style>\n",
              "<table border=\"1\" class=\"dataframe\">\n",
              "  <thead>\n",
              "    <tr style=\"text-align: right;\">\n",
              "      <th></th>\n",
              "      <th>account_from</th>\n",
              "      <th>account_to</th>\n",
              "      <th>sender</th>\n",
              "      <th>receiver</th>\n",
              "      <th>amount</th>\n",
              "      <th>channel</th>\n",
              "      <th>currency</th>\n",
              "      <th>date</th>\n",
              "      <th>flag</th>\n",
              "      <th>location</th>\n",
              "      <th>transaction_type</th>\n",
              "      <th>transaction_id</th>\n",
              "    </tr>\n",
              "  </thead>\n",
              "  <tbody>\n",
              "    <tr>\n",
              "      <th>0</th>\n",
              "      <td>Account 617</td>\n",
              "      <td>Account 618</td>\n",
              "      <td>Fraudulent_businesses 8</td>\n",
              "      <td>Fraudulent_businesses 9</td>\n",
              "      <td>999.75</td>\n",
              "      <td>LINK</td>\n",
              "      <td>GBP</td>\n",
              "      <td>1/01/2021 9:03</td>\n",
              "      <td>transaction</td>\n",
              "      <td>UK</td>\n",
              "      <td>0.1</td>\n",
              "      <td>198163</td>\n",
              "    </tr>\n",
              "    <tr>\n",
              "      <th>1</th>\n",
              "      <td>Account 617</td>\n",
              "      <td>Account 618</td>\n",
              "      <td>Fraudulent_businesses 8</td>\n",
              "      <td>Fraudulent_businesses 9</td>\n",
              "      <td>618.67</td>\n",
              "      <td>FPS</td>\n",
              "      <td>GBP</td>\n",
              "      <td>1/01/2021 9:03</td>\n",
              "      <td>transaction</td>\n",
              "      <td>UK</td>\n",
              "      <td>0.1</td>\n",
              "      <td>198164</td>\n",
              "    </tr>\n",
              "    <tr>\n",
              "      <th>2</th>\n",
              "      <td>Account 617</td>\n",
              "      <td>Account 618</td>\n",
              "      <td>Fraudulent_businesses 8</td>\n",
              "      <td>Fraudulent_businesses 9</td>\n",
              "      <td>95.13</td>\n",
              "      <td>FPS</td>\n",
              "      <td>GBP</td>\n",
              "      <td>1/01/2021 9:03</td>\n",
              "      <td>transaction</td>\n",
              "      <td>UK</td>\n",
              "      <td>0.1</td>\n",
              "      <td>198165</td>\n",
              "    </tr>\n",
              "    <tr>\n",
              "      <th>3</th>\n",
              "      <td>Account 617</td>\n",
              "      <td>Account 618</td>\n",
              "      <td>Fraudulent_businesses 8</td>\n",
              "      <td>Fraudulent_businesses 9</td>\n",
              "      <td>808.09</td>\n",
              "      <td>LINK</td>\n",
              "      <td>GBP</td>\n",
              "      <td>1/01/2021 9:03</td>\n",
              "      <td>transaction</td>\n",
              "      <td>UK</td>\n",
              "      <td>0.1</td>\n",
              "      <td>198166</td>\n",
              "    </tr>\n",
              "    <tr>\n",
              "      <th>4</th>\n",
              "      <td>Account 617</td>\n",
              "      <td>Account 618</td>\n",
              "      <td>Fraudulent_businesses 8</td>\n",
              "      <td>Fraudulent_businesses 9</td>\n",
              "      <td>442.39</td>\n",
              "      <td>LINK</td>\n",
              "      <td>GBP</td>\n",
              "      <td>1/01/2021 9:03</td>\n",
              "      <td>transaction</td>\n",
              "      <td>UK</td>\n",
              "      <td>0.1</td>\n",
              "      <td>198167</td>\n",
              "    </tr>\n",
              "  </tbody>\n",
              "</table>\n",
              "</div>"
            ],
            "text/plain": [
              "  account_from   account_to  ... transaction_type transaction_id\n",
              "0  Account 617  Account 618  ...              0.1         198163\n",
              "1  Account 617  Account 618  ...              0.1         198164\n",
              "2  Account 617  Account 618  ...              0.1         198165\n",
              "3  Account 617  Account 618  ...              0.1         198166\n",
              "4  Account 617  Account 618  ...              0.1         198167\n",
              "\n",
              "[5 rows x 12 columns]"
            ]
          },
          "metadata": {},
          "execution_count": 12
        }
      ]
    },
    {
      "cell_type": "code",
      "metadata": {
        "id": "ce11dc2f",
        "colab": {
          "base_uri": "https://localhost:8080/"
        },
        "outputId": "997c9945-88c0-482b-f1ea-28c442847394"
      },
      "source": [
        "transactions_one_hot[0].head()"
      ],
      "id": "ce11dc2f",
      "execution_count": null,
      "outputs": [
        {
          "output_type": "execute_result",
          "data": {
            "text/html": [
              "<div>\n",
              "<style scoped>\n",
              "    .dataframe tbody tr th:only-of-type {\n",
              "        vertical-align: middle;\n",
              "    }\n",
              "\n",
              "    .dataframe tbody tr th {\n",
              "        vertical-align: top;\n",
              "    }\n",
              "\n",
              "    .dataframe thead th {\n",
              "        text-align: right;\n",
              "    }\n",
              "</style>\n",
              "<table border=\"1\" class=\"dataframe\">\n",
              "  <thead>\n",
              "    <tr style=\"text-align: right;\">\n",
              "      <th></th>\n",
              "      <th>account_from</th>\n",
              "      <th>account_to</th>\n",
              "      <th>sender</th>\n",
              "      <th>receiver</th>\n",
              "      <th>amount</th>\n",
              "      <th>currency</th>\n",
              "      <th>date</th>\n",
              "      <th>flag</th>\n",
              "      <th>location</th>\n",
              "      <th>transaction_id</th>\n",
              "      <th>channel_Bacs</th>\n",
              "      <th>channel_C&amp;CCC</th>\n",
              "      <th>channel_CASH</th>\n",
              "      <th>channel_CHAPS</th>\n",
              "      <th>channel_FPS</th>\n",
              "      <th>channel_LINK</th>\n",
              "      <th>channel_Paym</th>\n",
              "      <th>transaction_type_0.1</th>\n",
              "      <th>transaction_type_0.2</th>\n",
              "      <th>transaction_type_1.1</th>\n",
              "      <th>transaction_type_1.2</th>\n",
              "      <th>transaction_type_2.2</th>\n",
              "      <th>transaction_type_3.1</th>\n",
              "      <th>transaction_type_3.2</th>\n",
              "      <th>transaction_type_3.3</th>\n",
              "      <th>transaction_type_4.1</th>\n",
              "      <th>transaction_type_4.2</th>\n",
              "      <th>transaction_type_5</th>\n",
              "      <th>transaction_type_bribe</th>\n",
              "      <th>transaction_type_cashout</th>\n",
              "      <th>transaction_type_kickback payment</th>\n",
              "      <th>transaction_type_pay false service</th>\n",
              "      <th>transaction_type_travel expenses payment</th>\n",
              "    </tr>\n",
              "  </thead>\n",
              "  <tbody>\n",
              "    <tr>\n",
              "      <th>0</th>\n",
              "      <td>Account 508</td>\n",
              "      <td>Account 584</td>\n",
              "      <td>Fraudulent_businesses 14</td>\n",
              "      <td>Fraudulent_individuals 21</td>\n",
              "      <td>20000.00</td>\n",
              "      <td>GBP</td>\n",
              "      <td>1/01/2021 9:03</td>\n",
              "      <td>fraud</td>\n",
              "      <td>UK</td>\n",
              "      <td>155401</td>\n",
              "      <td>0</td>\n",
              "      <td>1</td>\n",
              "      <td>0</td>\n",
              "      <td>0</td>\n",
              "      <td>0</td>\n",
              "      <td>0</td>\n",
              "      <td>0</td>\n",
              "      <td>0</td>\n",
              "      <td>0</td>\n",
              "      <td>0</td>\n",
              "      <td>0</td>\n",
              "      <td>0</td>\n",
              "      <td>0</td>\n",
              "      <td>0</td>\n",
              "      <td>0</td>\n",
              "      <td>0</td>\n",
              "      <td>0</td>\n",
              "      <td>0</td>\n",
              "      <td>0</td>\n",
              "      <td>0</td>\n",
              "      <td>0</td>\n",
              "      <td>1</td>\n",
              "      <td>0</td>\n",
              "    </tr>\n",
              "    <tr>\n",
              "      <th>1</th>\n",
              "      <td>Account 511</td>\n",
              "      <td>Account 585</td>\n",
              "      <td>Businesses 17</td>\n",
              "      <td>Fraudulent_individuals 18</td>\n",
              "      <td>20000.00</td>\n",
              "      <td>GBP</td>\n",
              "      <td>1/01/2021 9:03</td>\n",
              "      <td>fraud</td>\n",
              "      <td>UK</td>\n",
              "      <td>155402</td>\n",
              "      <td>0</td>\n",
              "      <td>0</td>\n",
              "      <td>0</td>\n",
              "      <td>0</td>\n",
              "      <td>0</td>\n",
              "      <td>1</td>\n",
              "      <td>0</td>\n",
              "      <td>0</td>\n",
              "      <td>0</td>\n",
              "      <td>0</td>\n",
              "      <td>0</td>\n",
              "      <td>0</td>\n",
              "      <td>0</td>\n",
              "      <td>0</td>\n",
              "      <td>0</td>\n",
              "      <td>0</td>\n",
              "      <td>0</td>\n",
              "      <td>0</td>\n",
              "      <td>0</td>\n",
              "      <td>0</td>\n",
              "      <td>0</td>\n",
              "      <td>1</td>\n",
              "      <td>0</td>\n",
              "    </tr>\n",
              "    <tr>\n",
              "      <th>2</th>\n",
              "      <td>Account 578</td>\n",
              "      <td>Account 562</td>\n",
              "      <td>Individuals 64</td>\n",
              "      <td>Individuals 48</td>\n",
              "      <td>36.80</td>\n",
              "      <td>GBP</td>\n",
              "      <td>1/01/2021 9:03</td>\n",
              "      <td>transaction</td>\n",
              "      <td>UK</td>\n",
              "      <td>155403</td>\n",
              "      <td>0</td>\n",
              "      <td>1</td>\n",
              "      <td>0</td>\n",
              "      <td>0</td>\n",
              "      <td>0</td>\n",
              "      <td>0</td>\n",
              "      <td>0</td>\n",
              "      <td>0</td>\n",
              "      <td>1</td>\n",
              "      <td>0</td>\n",
              "      <td>0</td>\n",
              "      <td>0</td>\n",
              "      <td>0</td>\n",
              "      <td>0</td>\n",
              "      <td>0</td>\n",
              "      <td>0</td>\n",
              "      <td>0</td>\n",
              "      <td>0</td>\n",
              "      <td>0</td>\n",
              "      <td>0</td>\n",
              "      <td>0</td>\n",
              "      <td>0</td>\n",
              "      <td>0</td>\n",
              "    </tr>\n",
              "    <tr>\n",
              "      <th>3</th>\n",
              "      <td>Account 578</td>\n",
              "      <td>Account 562</td>\n",
              "      <td>Individuals 64</td>\n",
              "      <td>Individuals 48</td>\n",
              "      <td>48.66</td>\n",
              "      <td>GBP</td>\n",
              "      <td>1/01/2021 9:03</td>\n",
              "      <td>transaction</td>\n",
              "      <td>UK</td>\n",
              "      <td>155404</td>\n",
              "      <td>1</td>\n",
              "      <td>0</td>\n",
              "      <td>0</td>\n",
              "      <td>0</td>\n",
              "      <td>0</td>\n",
              "      <td>0</td>\n",
              "      <td>0</td>\n",
              "      <td>0</td>\n",
              "      <td>1</td>\n",
              "      <td>0</td>\n",
              "      <td>0</td>\n",
              "      <td>0</td>\n",
              "      <td>0</td>\n",
              "      <td>0</td>\n",
              "      <td>0</td>\n",
              "      <td>0</td>\n",
              "      <td>0</td>\n",
              "      <td>0</td>\n",
              "      <td>0</td>\n",
              "      <td>0</td>\n",
              "      <td>0</td>\n",
              "      <td>0</td>\n",
              "      <td>0</td>\n",
              "    </tr>\n",
              "    <tr>\n",
              "      <th>4</th>\n",
              "      <td>Account 578</td>\n",
              "      <td>Account 562</td>\n",
              "      <td>Individuals 64</td>\n",
              "      <td>Individuals 48</td>\n",
              "      <td>100.31</td>\n",
              "      <td>GBP</td>\n",
              "      <td>1/01/2021 9:03</td>\n",
              "      <td>transaction</td>\n",
              "      <td>UK</td>\n",
              "      <td>155405</td>\n",
              "      <td>1</td>\n",
              "      <td>0</td>\n",
              "      <td>0</td>\n",
              "      <td>0</td>\n",
              "      <td>0</td>\n",
              "      <td>0</td>\n",
              "      <td>0</td>\n",
              "      <td>0</td>\n",
              "      <td>1</td>\n",
              "      <td>0</td>\n",
              "      <td>0</td>\n",
              "      <td>0</td>\n",
              "      <td>0</td>\n",
              "      <td>0</td>\n",
              "      <td>0</td>\n",
              "      <td>0</td>\n",
              "      <td>0</td>\n",
              "      <td>0</td>\n",
              "      <td>0</td>\n",
              "      <td>0</td>\n",
              "      <td>0</td>\n",
              "      <td>0</td>\n",
              "      <td>0</td>\n",
              "    </tr>\n",
              "  </tbody>\n",
              "</table>\n",
              "</div>"
            ],
            "text/plain": [
              "  account_from  ... transaction_type_travel expenses payment\n",
              "0  Account 508  ...                                        0\n",
              "1  Account 511  ...                                        0\n",
              "2  Account 578  ...                                        0\n",
              "3  Account 578  ...                                        0\n",
              "4  Account 578  ...                                        0\n",
              "\n",
              "[5 rows x 33 columns]"
            ]
          },
          "metadata": {},
          "execution_count": 13
        }
      ]
    },
    {
      "cell_type": "code",
      "metadata": {
        "id": "6e472f41",
        "scrolled": true,
        "colab": {
          "base_uri": "https://localhost:8080/"
        },
        "outputId": "81c19a0b-ea9b-433f-bf34-ea00ff15dcc7"
      },
      "source": [
        "transactions[0].shape, transactions_one_hot[0].shape"
      ],
      "id": "6e472f41",
      "execution_count": null,
      "outputs": [
        {
          "output_type": "execute_result",
          "data": {
            "text/plain": [
              "((42762, 12), (42762, 33))"
            ]
          },
          "metadata": {},
          "execution_count": 14
        }
      ]
    },
    {
      "cell_type": "markdown",
      "metadata": {
        "id": "4dc8eae5"
      },
      "source": [
        "# Correlation"
      ],
      "id": "4dc8eae5"
    },
    {
      "cell_type": "code",
      "metadata": {
        "id": "4333cb11",
        "scrolled": false,
        "colab": {
          "base_uri": "https://localhost:8080/",
          "height": 165
        },
        "outputId": "3cac752c-dc29-4e1b-c79e-63220e149ef4"
      },
      "source": [
        "transactions_one_hot.corr()"
      ],
      "id": "4333cb11",
      "execution_count": null,
      "outputs": [
        {
          "output_type": "error",
          "ename": "AttributeError",
          "evalue": "ignored",
          "traceback": [
            "\u001b[0;31m---------------------------------------------------------------------------\u001b[0m",
            "\u001b[0;31mAttributeError\u001b[0m                            Traceback (most recent call last)",
            "\u001b[0;32m<ipython-input-15-6f54af304d7c>\u001b[0m in \u001b[0;36m<module>\u001b[0;34m()\u001b[0m\n\u001b[0;32m----> 1\u001b[0;31m \u001b[0mtransactions_one_hot\u001b[0m\u001b[0;34m.\u001b[0m\u001b[0mcorr\u001b[0m\u001b[0;34m(\u001b[0m\u001b[0;34m)\u001b[0m\u001b[0;34m\u001b[0m\u001b[0;34m\u001b[0m\u001b[0m\n\u001b[0m",
            "\u001b[0;31mAttributeError\u001b[0m: 'list' object has no attribute 'corr'"
          ]
        }
      ]
    },
    {
      "cell_type": "code",
      "metadata": {
        "id": "d07998b3",
        "scrolled": true
      },
      "source": [
        "transactions_one_hot.columns"
      ],
      "id": "d07998b3",
      "execution_count": null,
      "outputs": []
    },
    {
      "cell_type": "code",
      "metadata": {
        "id": "79acbeed"
      },
      "source": [
        "transactions.channel.unique()"
      ],
      "id": "79acbeed",
      "execution_count": null,
      "outputs": []
    },
    {
      "cell_type": "code",
      "metadata": {
        "id": "8529c87d",
        "scrolled": false
      },
      "source": [
        "# Veamos la correlacion con un mapa de calor\n",
        "corr_data = transactions_one_hot[['amount', 'channel_Bacs', 'channel_C&CCC', 'channel_CASH', 'channel_CHAPS',\n",
        "                                 'channel_FPS', 'channel_LINK', 'channel_Paym']]\n",
        "plt.figure(figsize=(35, 30))\n",
        "heatmap = sns.heatmap(corr_data.corr(), vmin=-1, vmax=1, annot=True, cmap='BrBG')\n",
        "heatmap.set_title('Correlation Heatmap', fontdict={'fontsize':20}, pad=12);"
      ],
      "id": "8529c87d",
      "execution_count": null,
      "outputs": []
    },
    {
      "cell_type": "code",
      "metadata": {
        "id": "06dedd83"
      },
      "source": [
        "corr_data = transactions_one_hot[['transaction_type_0.1', 'transaction_type_0.2', 'transaction_type_1.1', \n",
        "                      'transaction_type_1.2', 'transaction_type_2.2', 'transaction_type_3.1', \n",
        "                      'transaction_type_3.3', 'transaction_type_4.2', 'transaction_type_5.0', \n",
        "                      'transaction_type_0.1', 'transaction_type_0.2', 'transaction_type_1.1', \n",
        "                      'transaction_type_1.2', 'transaction_type_2.2', 'transaction_type_3.1', \n",
        "                      'transaction_type_3.2', 'transaction_type_3.3', 'transaction_type_4.1', \n",
        "                      'transaction_type_4.2', 'transaction_type_5.0', 'transaction_type_bribe', \n",
        "                      'transaction_type_cashout', 'transaction_type_kickback payment', \n",
        "                      'transaction_type_pay false service', 'transaction_type_travel expenses payment']]\n",
        "\n",
        "plt.figure(figsize=(35, 30))\n",
        "heatmap = sns.heatmap(corr_data.corr(), vmin=-1, vmax=1, annot=True, cmap='BrBG')\n",
        "heatmap.set_title('Correlation Heatmap', fontdict={'fontsize':20}, pad=12);"
      ],
      "id": "06dedd83",
      "execution_count": null,
      "outputs": []
    },
    {
      "cell_type": "markdown",
      "metadata": {
        "id": "cadBdj_KGCnR"
      },
      "source": [
        "# Data preparation"
      ],
      "id": "cadBdj_KGCnR"
    },
    {
      "cell_type": "code",
      "metadata": {
        "id": "k6-nEekKRp4u"
      },
      "source": [
        "from sklearn import preprocessing\n",
        "\n",
        "Transactions=[\n",
        "              data.drop(columns=['account_from', 'account_to', 'currency', 'location','transaction_id','sender','receiver','date']) \n",
        "              for data in transactions_one_hot\n",
        "              ]\n",
        "Transactions=[data[data['flag'].notna()] for data in Transactions]\n",
        "\n",
        "for data in Transactions:\n",
        "  le = preprocessing.LabelEncoder()\n",
        "  le.fit(data.flag)\n",
        "  data['Flagged'] = le.transform(data.flag)\n",
        "\n",
        "Transactions = [data.drop(columns=['flag']) for data in Transactions]\n",
        "\n",
        "X=[data.iloc[:,0:-1] for data in Transactions]\n",
        "y=[data.iloc[:,-1] for data in Transactions]"
      ],
      "id": "k6-nEekKRp4u",
      "execution_count": null,
      "outputs": []
    },
    {
      "cell_type": "code",
      "metadata": {
        "id": "yz7KPuKYSebv",
        "colab": {
          "base_uri": "https://localhost:8080/"
        },
        "outputId": "ec8e0d8d-911c-42c3-b044-da6d5cbfef3d"
      },
      "source": [
        "for label in y:\n",
        "  print(label.value_counts())\n",
        "  print('\\n')"
      ],
      "id": "yz7KPuKYSebv",
      "execution_count": null,
      "outputs": [
        {
          "output_type": "stream",
          "name": "stdout",
          "text": [
            "1    41977\n",
            "0      785\n",
            "Name: Flagged, dtype: int64\n",
            "\n",
            "\n",
            "1    25582\n",
            "0      510\n",
            "Name: Flagged, dtype: int64\n",
            "\n",
            "\n",
            "1    142776\n",
            "0       440\n",
            "Name: Flagged, dtype: int64\n",
            "\n",
            "\n"
          ]
        }
      ]
    },
    {
      "cell_type": "markdown",
      "metadata": {
        "id": "32D6stFNGoq2"
      },
      "source": [
        "# Split train-test"
      ],
      "id": "32D6stFNGoq2"
    },
    {
      "cell_type": "code",
      "metadata": {
        "id": "OTzC5NbzGtuG"
      },
      "source": [
        "def traintest(X, y, num=0.3):\n",
        "  X_train, X_test, y_train, y_test = train_test_split(X, y, test_size=num, random_state=42)\n",
        "  return X_train, y_train, X_test, y_test"
      ],
      "id": "OTzC5NbzGtuG",
      "execution_count": null,
      "outputs": []
    },
    {
      "cell_type": "markdown",
      "metadata": {
        "id": "v1kTgjtYHh8D"
      },
      "source": [
        "# Prediction"
      ],
      "id": "v1kTgjtYHh8D"
    },
    {
      "cell_type": "code",
      "metadata": {
        "id": "fCIg4C2yHlAu"
      },
      "source": [
        "def prediction(model, X_test, y_test):\n",
        "  y_fit=model.predict(X_test)\n",
        "  report=classification_report(y_test,y_fit)\n",
        "  return y_fit, report"
      ],
      "id": "fCIg4C2yHlAu",
      "execution_count": null,
      "outputs": []
    },
    {
      "cell_type": "markdown",
      "metadata": {
        "id": "at_pK8UQHt8k"
      },
      "source": [
        "# Classification Methods"
      ],
      "id": "at_pK8UQHt8k"
    },
    {
      "cell_type": "markdown",
      "metadata": {
        "id": "wt6oaiwQIC6A"
      },
      "source": [
        "## Suport Vector Machine"
      ],
      "id": "wt6oaiwQIC6A"
    },
    {
      "cell_type": "code",
      "metadata": {
        "id": "nMCAFG5eGVro"
      },
      "source": [
        "def svm(X_train, y_train, string='rbf', num=1E8):\n",
        "  model = SVC(kernel=string, C=num)\n",
        "  model.fit(X_train, y_train)\n",
        "  return model"
      ],
      "id": "nMCAFG5eGVro",
      "execution_count": null,
      "outputs": []
    },
    {
      "cell_type": "markdown",
      "metadata": {
        "id": "JATdUeMXIQ_-"
      },
      "source": [
        "## Random forest classification"
      ],
      "id": "JATdUeMXIQ_-"
    },
    {
      "cell_type": "code",
      "metadata": {
        "id": "s37mI--kknMx"
      },
      "source": [
        "def rforest(X_train, y_train):\n",
        "  tree = RandomForestClassifier().fit(X_train, y_train)\n",
        "  return tree"
      ],
      "id": "s37mI--kknMx",
      "execution_count": null,
      "outputs": []
    },
    {
      "cell_type": "markdown",
      "metadata": {
        "id": "gMTGfMy0JT8A"
      },
      "source": [
        "# Balance Methods"
      ],
      "id": "gMTGfMy0JT8A"
    },
    {
      "cell_type": "markdown",
      "metadata": {
        "id": "kPYREbEmJfP0"
      },
      "source": [
        "## Undersampling"
      ],
      "id": "kPYREbEmJfP0"
    },
    {
      "cell_type": "markdown",
      "metadata": {
        "id": "GxmBHKizBWh_"
      },
      "source": [
        "### Random Undersampling"
      ],
      "id": "GxmBHKizBWh_"
    },
    {
      "cell_type": "code",
      "metadata": {
        "id": "BSz4eBHRImpR"
      },
      "source": [
        "def rundersampling(X, y, threshold=0.5):\n",
        "  X=X.to_numpy()\n",
        "  y=y.to_numpy()\n",
        "  undersample = RandomUnderSampler(sampling_strategy=threshold)\n",
        "  X_under , y_under=undersample.fit_resample(X, y)\n",
        "  print(\"RANDOM UNDERSAMPLING\")\n",
        "  print(\"Original balance\")\n",
        "  print(Counter(y))\n",
        "  print(\"Undersampled balance\")\n",
        "  print(Counter(y_under))\n",
        "  print(\"\\n\")\n",
        "  return X_under, y_under"
      ],
      "id": "BSz4eBHRImpR",
      "execution_count": null,
      "outputs": []
    },
    {
      "cell_type": "markdown",
      "metadata": {
        "id": "kkgqJQTE6ZvN"
      },
      "source": [
        "### Near_Miss_1"
      ],
      "id": "kkgqJQTE6ZvN"
    },
    {
      "cell_type": "code",
      "metadata": {
        "id": "V6myCeID6c_9"
      },
      "source": [
        "def nearm1(X, y, n_neighbors=3):\n",
        "  X=X.to_numpy()\n",
        "  y=y.to_numpy()\n",
        "  undersample = NearMiss(version=1, n_neighbors=3)\n",
        "  X_under , y_under=undersample.fit_resample(X, y)\n",
        "  print(\"NEAR MISS 1 UNDERSAMPLING\")\n",
        "  print(\"Original balance\")\n",
        "  print(Counter(y))\n",
        "  print(\"Undersampled balance\")\n",
        "  print(Counter(y_under))\n",
        "  print(\"\\n\")\n",
        "  return X_under, y_under"
      ],
      "id": "V6myCeID6c_9",
      "execution_count": null,
      "outputs": []
    },
    {
      "cell_type": "markdown",
      "metadata": {
        "id": "4zLnBi7q-Lha"
      },
      "source": [
        "### Tomek Links"
      ],
      "id": "4zLnBi7q-Lha"
    },
    {
      "cell_type": "code",
      "metadata": {
        "id": "sCLkFcbu-KtJ"
      },
      "source": [
        "def tomeklinks(X, y):\n",
        "  X=X.to_numpy()\n",
        "  y=y.to_numpy()\n",
        "  undersample = TomekLinks()\n",
        "  X_under , y_under=undersample.fit_resample(X, y)\n",
        "  print(\"TOMEK LINKS UNDERSAMPLING\")\n",
        "  print(\"Original balance\")\n",
        "  print(Counter(y))\n",
        "  print(\"Undersampled balance\")\n",
        "  print(Counter(y_under))\n",
        "  print(\"\\n\")\n",
        "  return X_under, y_under"
      ],
      "id": "sCLkFcbu-KtJ",
      "execution_count": null,
      "outputs": []
    },
    {
      "cell_type": "markdown",
      "metadata": {
        "id": "SXEOsY78JhhS"
      },
      "source": [
        "\n",
        "## Oversampling"
      ],
      "id": "SXEOsY78JhhS"
    },
    {
      "cell_type": "markdown",
      "metadata": {
        "id": "ZbMhg2bnBRaI"
      },
      "source": [
        "### Random Oversampling"
      ],
      "id": "ZbMhg2bnBRaI"
    },
    {
      "cell_type": "code",
      "metadata": {
        "id": "RwbFKFOyJl5M"
      },
      "source": [
        "def roversampling(X, y, threshold=0.3):\n",
        "  X=X.to_numpy()\n",
        "  y=y.to_numpy()\n",
        "  oversample = RandomOverSampler(sampling_strategy=threshold)\n",
        "  X_over , y_over=oversample.fit_resample(X, y)\n",
        "  print(\"RANDOM OVERSAMPLING\")\n",
        "  print(\"Original balance\")\n",
        "  print(Counter(y))\n",
        "  print(\"Oversampled balance\")\n",
        "  print(Counter(y_over))\n",
        "  print(\"\\n\")\n",
        "  return X_over, y_over"
      ],
      "id": "RwbFKFOyJl5M",
      "execution_count": null,
      "outputs": []
    },
    {
      "cell_type": "markdown",
      "metadata": {
        "id": "0oKPF7D3KQfU"
      },
      "source": [
        "# Balance the data"
      ],
      "id": "0oKPF7D3KQfU"
    },
    {
      "cell_type": "code",
      "metadata": {
        "id": "nXW90wVvLN8q"
      },
      "source": [
        "def balancedata(methods, X, y):\n",
        "  new_data = []\n",
        "  for method in methods:\n",
        "    X_new, y_new = method(X,y)\n",
        "    new_data.append([X_new, y_new])\n",
        "  return new_data"
      ],
      "id": "nXW90wVvLN8q",
      "execution_count": null,
      "outputs": []
    },
    {
      "cell_type": "code",
      "metadata": {
        "id": "uBFAsxhCMf3e",
        "colab": {
          "base_uri": "https://localhost:8080/"
        },
        "outputId": "97cf1547-5dea-4a97-d277-6950c9fb9bff"
      },
      "source": [
        "methods = [rundersampling, nearm1, roversampling]\n",
        "num_methods = len(methods) + 1\n",
        "methods_names= ['RAW','RANDOM UNDERSAMPLING', 'NEAR MISS 1 UNDERSAMPLING', 'RANDOM OVERSAMPLING']\n",
        "balanced = []\n",
        "count = 1\n",
        "'''\n",
        "for i,j in zip(X,y):\n",
        "  print(\"######### DATA FRAME {} #########\".format(count))\n",
        "  b = balancedata(methods, i, j)\n",
        "  balanced.append(b)\n",
        "  count +=1\n",
        "'''\n",
        "balanced = balancedata(methods, X[2], y[2])"
      ],
      "id": "uBFAsxhCMf3e",
      "execution_count": null,
      "outputs": [
        {
          "output_type": "stream",
          "name": "stdout",
          "text": [
            "RANDOM UNDERSAMPLING\n",
            "Original balance\n",
            "Counter({1: 142776, 0: 440})\n",
            "Undersampled balance\n",
            "Counter({1: 880, 0: 440})\n",
            "\n",
            "\n",
            "NEAR MISS 1 UNDERSAMPLING\n",
            "Original balance\n",
            "Counter({1: 142776, 0: 440})\n",
            "Undersampled balance\n",
            "Counter({0: 440, 1: 440})\n",
            "\n",
            "\n",
            "RANDOM OVERSAMPLING\n",
            "Original balance\n",
            "Counter({1: 142776, 0: 440})\n",
            "Oversampled balance\n",
            "Counter({1: 142776, 0: 42832})\n",
            "\n",
            "\n"
          ]
        }
      ]
    },
    {
      "cell_type": "markdown",
      "metadata": {
        "id": "4vNdyyK8koVy"
      },
      "source": [
        "## Para mandar al otro equipo"
      ],
      "id": "4vNdyyK8koVy"
    },
    {
      "cell_type": "code",
      "metadata": {
        "id": "vzEEWIN7kdAV"
      },
      "source": [
        "a = pd.DataFrame(balanced[0][0])\n",
        "b = pd.DataFrame(balanced[0][1])\n",
        "\n",
        "data_undersampling = pd.concat([a,b], axis=1, ignore_index=True)\n",
        "\n",
        "a = pd.DataFrame(balanced[2][0])\n",
        "b = pd.DataFrame(balanced[2][1])\n",
        "\n",
        "data_oversampling = pd.concat([a,b], axis=1, ignore_index=True)\n",
        "\n",
        "data_names = ['X{}'.format(i) for i in range(24)]\n",
        "data_names.append('y')\n",
        "\n",
        "data_undersampling.columns = data_names\n",
        "data_oversampling.columns = data_names\n",
        "\n",
        "data_undersampling.to_csv('Datos_undersampling.csv')\n",
        "data_undersampling.to_csv('Datos_oversampling.csv')\n"
      ],
      "id": "vzEEWIN7kdAV",
      "execution_count": null,
      "outputs": []
    },
    {
      "cell_type": "markdown",
      "metadata": {
        "id": "C7H1FJgbKfTV"
      },
      "source": [
        "# Carry on classification on balanced data"
      ],
      "id": "C7H1FJgbKfTV"
    },
    {
      "cell_type": "markdown",
      "metadata": {
        "id": "7WP4cPAjfUo6"
      },
      "source": [
        "## Load premodified models\n"
      ],
      "id": "7WP4cPAjfUo6"
    },
    {
      "cell_type": "code",
      "metadata": {
        "id": "aM3I2Z0_fY7b"
      },
      "source": [
        "# LOAD THE MODELS\n",
        "svm_models = []\n",
        "for i in range(num_methods):\n",
        "  filename = \"svm_model with Sim1 as training{}.sav\".format(i)\n",
        "  loaded_model = pickle.load(open(filename, 'rb'))\n",
        "  svm_models.append(loaded_model)"
      ],
      "id": "aM3I2Z0_fY7b",
      "execution_count": null,
      "outputs": []
    },
    {
      "cell_type": "markdown",
      "metadata": {
        "id": "UkroRbpE5IVa"
      },
      "source": [
        "# Split data\n"
      ],
      "id": "UkroRbpE5IVa"
    },
    {
      "cell_type": "code",
      "metadata": {
        "id": "W1HGpqRV5GK6"
      },
      "source": [
        "#balanced_data = [traintest(X[0],y[0])]\n",
        "balanced_data = []\n",
        "for data in balanced:\n",
        "  #X_train, y_train, X_test, y_test = traintest(data[0],data[1])\n",
        "  X_train, y_train, X_test, y_test = data[0], data[1], X[0], y[0]\n",
        "  balanced_data.append([X_train, y_train, X_test, y_test])"
      ],
      "id": "W1HGpqRV5GK6",
      "execution_count": null,
      "outputs": []
    },
    {
      "cell_type": "markdown",
      "metadata": {
        "id": "z06b_RuNOs5k"
      },
      "source": [
        "## Support vector machine"
      ],
      "id": "z06b_RuNOs5k"
    },
    {
      "cell_type": "code",
      "metadata": {
        "id": "DVwQQo_kPpGH"
      },
      "source": [
        "svm_models = [svm(X[2], y[2])]\n",
        "for data in balanced_data:\n",
        "  svm_models.append(svm(data[0],data[1]))"
      ],
      "id": "DVwQQo_kPpGH",
      "execution_count": null,
      "outputs": []
    },
    {
      "cell_type": "code",
      "metadata": {
        "id": "QzdqXW_SRTgc",
        "colab": {
          "base_uri": "https://localhost:8080/"
        },
        "outputId": "19d091dc-9108-482c-fc72-a7b1f94c38dd"
      },
      "source": [
        "predictions=[]\n",
        "for i in range(len(svm_models)):\n",
        "  predictions.append(prediction(svm_models[i],balanced_data[0][2],balanced_data[0][3]))"
      ],
      "id": "QzdqXW_SRTgc",
      "execution_count": null,
      "outputs": [
        {
          "output_type": "stream",
          "name": "stderr",
          "text": [
            "/usr/local/lib/python3.7/dist-packages/sklearn/base.py:488: FutureWarning: The feature names should match those that were passed during fit. Starting version 1.2, an error will be raised.\n",
            "Feature names unseen at fit time:\n",
            "- transaction_type_5\n",
            "Feature names seen at fit time, yet now missing:\n",
            "- transaction_type_5.0\n",
            "\n",
            "  warnings.warn(message, FutureWarning)\n",
            "/usr/local/lib/python3.7/dist-packages/sklearn/base.py:439: UserWarning: X has feature names, but SVC was fitted without feature names\n",
            "  f\"X has feature names, but {self.__class__.__name__} was fitted without\"\n",
            "/usr/local/lib/python3.7/dist-packages/sklearn/base.py:439: UserWarning: X has feature names, but SVC was fitted without feature names\n",
            "  f\"X has feature names, but {self.__class__.__name__} was fitted without\"\n",
            "/usr/local/lib/python3.7/dist-packages/sklearn/base.py:439: UserWarning: X has feature names, but SVC was fitted without feature names\n",
            "  f\"X has feature names, but {self.__class__.__name__} was fitted without\"\n"
          ]
        }
      ]
    },
    {
      "cell_type": "code",
      "metadata": {
        "id": "1GW4e-wFVLmq"
      },
      "source": [
        "for pred,name in zip(predictions,methods_names):\n",
        "  print(name)\n",
        "  print(pred[1])\n",
        "  print('\\n')"
      ],
      "id": "1GW4e-wFVLmq",
      "execution_count": null,
      "outputs": []
    },
    {
      "cell_type": "markdown",
      "metadata": {
        "id": "-K-bpFQuvxX2"
      },
      "source": [
        "## Save Models\n"
      ],
      "id": "-K-bpFQuvxX2"
    },
    {
      "cell_type": "code",
      "metadata": {
        "id": "WjHkXB-Xv0Ad"
      },
      "source": [
        "# SAVE THE MODELS\n",
        "for i in range(len(svm_models)):\n",
        "  filename = \"svm_model with Sim1 as training{}.sav\".format(i)\n",
        "  pickle.dump(svm_models[i], open(filename, 'wb'))"
      ],
      "id": "WjHkXB-Xv0Ad",
      "execution_count": null,
      "outputs": []
    },
    {
      "cell_type": "markdown",
      "metadata": {
        "id": "2lS47K5I37P6"
      },
      "source": [
        "#Random Forest\n"
      ],
      "id": "2lS47K5I37P6"
    },
    {
      "cell_type": "code",
      "metadata": {
        "id": "AdCBhBPP3-ak"
      },
      "source": [
        "ran_models = [rforest(X[2], y[2])]\n",
        "for data in balanced_data:\n",
        "  ran_models.append(rforest(data[0],data[1]))"
      ],
      "id": "AdCBhBPP3-ak",
      "execution_count": null,
      "outputs": []
    },
    {
      "cell_type": "code",
      "metadata": {
        "id": "FEo3zU6x4OwM",
        "colab": {
          "base_uri": "https://localhost:8080/"
        },
        "outputId": "80f878c0-b08b-4794-d4b1-4e607e1a0397"
      },
      "source": [
        "predictions1=[]\n",
        "for i in range(len(ran_models)):\n",
        "  predictions1.append(prediction(ran_models[i],balanced_data[0][2],balanced_data[0][3]))"
      ],
      "id": "FEo3zU6x4OwM",
      "execution_count": null,
      "outputs": [
        {
          "output_type": "stream",
          "name": "stderr",
          "text": [
            "/usr/local/lib/python3.7/dist-packages/sklearn/base.py:488: FutureWarning: The feature names should match those that were passed during fit. Starting version 1.2, an error will be raised.\n",
            "Feature names unseen at fit time:\n",
            "- transaction_type_5\n",
            "Feature names seen at fit time, yet now missing:\n",
            "- transaction_type_5.0\n",
            "\n",
            "  warnings.warn(message, FutureWarning)\n",
            "/usr/local/lib/python3.7/dist-packages/sklearn/base.py:439: UserWarning: X has feature names, but RandomForestClassifier was fitted without feature names\n",
            "  f\"X has feature names, but {self.__class__.__name__} was fitted without\"\n",
            "/usr/local/lib/python3.7/dist-packages/sklearn/base.py:439: UserWarning: X has feature names, but RandomForestClassifier was fitted without feature names\n",
            "  f\"X has feature names, but {self.__class__.__name__} was fitted without\"\n",
            "/usr/local/lib/python3.7/dist-packages/sklearn/base.py:439: UserWarning: X has feature names, but RandomForestClassifier was fitted without feature names\n",
            "  f\"X has feature names, but {self.__class__.__name__} was fitted without\"\n"
          ]
        }
      ]
    },
    {
      "cell_type": "code",
      "metadata": {
        "id": "cj4TM-kl4SPD",
        "colab": {
          "base_uri": "https://localhost:8080/"
        },
        "outputId": "edce3164-4100-4780-f360-9fd25055d422"
      },
      "source": [
        "for pred,name in zip(predictions1,methods_names):\n",
        "  print(name)\n",
        "  print(pred[1])\n",
        "  print('\\n')"
      ],
      "id": "cj4TM-kl4SPD",
      "execution_count": null,
      "outputs": [
        {
          "output_type": "stream",
          "name": "stdout",
          "text": [
            "RAW\n",
            "              precision    recall  f1-score   support\n",
            "\n",
            "           0       1.00      1.00      1.00       785\n",
            "           1       1.00      1.00      1.00     41977\n",
            "\n",
            "    accuracy                           1.00     42762\n",
            "   macro avg       1.00      1.00      1.00     42762\n",
            "weighted avg       1.00      1.00      1.00     42762\n",
            "\n",
            "\n",
            "\n",
            "RANDOM UNDERSAMPLING\n",
            "              precision    recall  f1-score   support\n",
            "\n",
            "           0       0.98      1.00      0.99       785\n",
            "           1       1.00      1.00      1.00     41977\n",
            "\n",
            "    accuracy                           1.00     42762\n",
            "   macro avg       0.99      1.00      0.99     42762\n",
            "weighted avg       1.00      1.00      1.00     42762\n",
            "\n",
            "\n",
            "\n",
            "NEAR MISS 1 UNDERSAMPLING\n",
            "              precision    recall  f1-score   support\n",
            "\n",
            "           0       0.04      1.00      0.07       785\n",
            "           1       1.00      0.50      0.66     41977\n",
            "\n",
            "    accuracy                           0.50     42762\n",
            "   macro avg       0.52      0.75      0.37     42762\n",
            "weighted avg       0.98      0.50      0.65     42762\n",
            "\n",
            "\n",
            "\n",
            "RANDOM OVERSAMPLING\n",
            "              precision    recall  f1-score   support\n",
            "\n",
            "           0       1.00      1.00      1.00       785\n",
            "           1       1.00      1.00      1.00     41977\n",
            "\n",
            "    accuracy                           1.00     42762\n",
            "   macro avg       1.00      1.00      1.00     42762\n",
            "weighted avg       1.00      1.00      1.00     42762\n",
            "\n",
            "\n",
            "\n"
          ]
        }
      ]
    },
    {
      "cell_type": "markdown",
      "metadata": {
        "id": "sxeqO2huldds"
      },
      "source": [
        "#Cross validation\n"
      ],
      "id": "sxeqO2huldds"
    },
    {
      "cell_type": "code",
      "metadata": {
        "id": "8kQrtkA-pzkh"
      },
      "source": [
        "clf = SVC(kernel='rbf', C=1E8, random_state=42)\n",
        "\n",
        "scores = cross_val_score(clf, X, y, cv=5,n_jobs=-1)"
      ],
      "id": "8kQrtkA-pzkh",
      "execution_count": null,
      "outputs": []
    },
    {
      "cell_type": "code",
      "metadata": {
        "id": "c4k0TBqRsZGI"
      },
      "source": [
        "scores"
      ],
      "id": "c4k0TBqRsZGI",
      "execution_count": null,
      "outputs": []
    },
    {
      "cell_type": "code",
      "metadata": {
        "id": "4NCLn3wQseL_"
      },
      "source": [
        "X_under=balanced[0][0]\n",
        "y_under=balanced[0][1]"
      ],
      "id": "4NCLn3wQseL_",
      "execution_count": null,
      "outputs": []
    },
    {
      "cell_type": "code",
      "metadata": {
        "id": "Ppl65iJXtNSI"
      },
      "source": [
        "scores2=cross_val_score(clf, X_under, y_under, cv=5)"
      ],
      "id": "Ppl65iJXtNSI",
      "execution_count": null,
      "outputs": []
    },
    {
      "cell_type": "code",
      "metadata": {
        "id": "QR6LXsOvuXC1"
      },
      "source": [
        "scores2"
      ],
      "id": "QR6LXsOvuXC1",
      "execution_count": null,
      "outputs": []
    },
    {
      "cell_type": "code",
      "metadata": {
        "id": "O7SiA94yupnu"
      },
      "source": [
        "tlf=RandomForestClassifier().fit(X_train, y_train)\n",
        "scores3 = cross_val_score(tlf, X, y, cv=5)"
      ],
      "id": "O7SiA94yupnu",
      "execution_count": null,
      "outputs": []
    },
    {
      "cell_type": "code",
      "metadata": {
        "id": "ZzIT5r6Su8ge"
      },
      "source": [
        "scores3"
      ],
      "id": "ZzIT5r6Su8ge",
      "execution_count": null,
      "outputs": []
    },
    {
      "cell_type": "markdown",
      "metadata": {
        "id": "Jv7AsBx7ZJRK"
      },
      "source": [
        "# Confusion Matrix"
      ],
      "id": "Jv7AsBx7ZJRK"
    },
    {
      "cell_type": "code",
      "metadata": {
        "id": "Pl4G3ucKv8Zd",
        "colab": {
          "base_uri": "https://localhost:8080/",
          "height": 468
        },
        "outputId": "4b027906-7b28-451e-f2d5-1d581a0e04f6"
      },
      "source": [
        "y_true_raw=y[0]\n",
        "y_pred_raw=predictions[0][0]\n",
        "\n",
        "plot_confusion_matrix(svm_models[0],balanced_data[0][2], y_true_raw) \n",
        "plt.title(\"Confusion Matrix Raw Data SVM\")\n",
        "plt.show()"
      ],
      "id": "Pl4G3ucKv8Zd",
      "execution_count": null,
      "outputs": [
        {
          "output_type": "stream",
          "name": "stderr",
          "text": [
            "/usr/local/lib/python3.7/dist-packages/sklearn/utils/deprecation.py:87: FutureWarning: Function plot_confusion_matrix is deprecated; Function `plot_confusion_matrix` is deprecated in 1.0 and will be removed in 1.2. Use one of the class methods: ConfusionMatrixDisplay.from_predictions or ConfusionMatrixDisplay.from_estimator.\n",
            "  warnings.warn(msg, category=FutureWarning)\n",
            "/usr/local/lib/python3.7/dist-packages/sklearn/base.py:488: FutureWarning: The feature names should match those that were passed during fit. Starting version 1.2, an error will be raised.\n",
            "Feature names unseen at fit time:\n",
            "- transaction_type_5\n",
            "Feature names seen at fit time, yet now missing:\n",
            "- transaction_type_5.0\n",
            "\n",
            "  warnings.warn(message, FutureWarning)\n"
          ]
        },
        {
          "output_type": "display_data",
          "data": {
            "image/png": "[encoded data removed]",
            "text/plain": [
              "<Figure size 432x288 with 2 Axes>"
            ]
          },
          "metadata": {
            "needs_background": "light"
          }
        }
      ]
    },
    {
      "cell_type": "code",
      "metadata": {
        "id": "L-okAYo-zS5a",
        "colab": {
          "base_uri": "https://localhost:8080/",
          "height": 383
        },
        "outputId": "7c91378a-355c-4a3d-d383-2c82e18c0891"
      },
      "source": [
        "y_true_raw=y[0]\n",
        "y_pred_raw=predictions[0][0]\n",
        "\n",
        "plot_confusion_matrix(svm_models[1],balanced_data[0][2], y_true_raw) \n",
        "plt.title(\"Confusion Matrix R Undersampling Data SVM\")\n",
        "plt.show()"
      ],
      "id": "L-okAYo-zS5a",
      "execution_count": null,
      "outputs": [
        {
          "output_type": "stream",
          "name": "stderr",
          "text": [
            "/usr/local/lib/python3.7/dist-packages/sklearn/utils/deprecation.py:87: FutureWarning: Function plot_confusion_matrix is deprecated; Function `plot_confusion_matrix` is deprecated in 1.0 and will be removed in 1.2. Use one of the class methods: ConfusionMatrixDisplay.from_predictions or ConfusionMatrixDisplay.from_estimator.\n",
            "  warnings.warn(msg, category=FutureWarning)\n",
            "/usr/local/lib/python3.7/dist-packages/sklearn/base.py:439: UserWarning: X has feature names, but SVC was fitted without feature names\n",
            "  f\"X has feature names, but {self.__class__.__name__} was fitted without\"\n"
          ]
        },
        {
          "output_type": "display_data",
          "data": {
            "image/png": "[encoded data removed]",
            "text/plain": [
              "<Figure size 432x288 with 2 Axes>"
            ]
          },
          "metadata": {
            "needs_background": "light"
          }
        }
      ]
    },
    {
      "cell_type": "code",
      "metadata": {
        "id": "D4yqSUUr1ClJ",
        "colab": {
          "base_uri": "https://localhost:8080/",
          "height": 383
        },
        "outputId": "b4a103d3-2fe6-4aa8-ef2e-738f4ebcd11f"
      },
      "source": [
        "y_true_raw=y[0]\n",
        "y_pred_raw=predictions[0][0]\n",
        "\n",
        "C=confusion_matrix(y_true_raw, y_pred_raw)\n",
        "plot_confusion_matrix(svm_models[2],balanced_data[0][2], y_true_raw) \n",
        "plt.title(\"Confusion Matrix Near miss 1 Undersampling Data SVM\")\n",
        "plt.show()"
      ],
      "id": "D4yqSUUr1ClJ",
      "execution_count": null,
      "outputs": [
        {
          "output_type": "stream",
          "name": "stderr",
          "text": [
            "/usr/local/lib/python3.7/dist-packages/sklearn/utils/deprecation.py:87: FutureWarning: Function plot_confusion_matrix is deprecated; Function `plot_confusion_matrix` is deprecated in 1.0 and will be removed in 1.2. Use one of the class methods: ConfusionMatrixDisplay.from_predictions or ConfusionMatrixDisplay.from_estimator.\n",
            "  warnings.warn(msg, category=FutureWarning)\n",
            "/usr/local/lib/python3.7/dist-packages/sklearn/base.py:439: UserWarning: X has feature names, but SVC was fitted without feature names\n",
            "  f\"X has feature names, but {self.__class__.__name__} was fitted without\"\n"
          ]
        },
        {
          "output_type": "display_data",
          "data": {
            "image/png": "[encoded data removed]",
            "text/plain": [
              "<Figure size 432x288 with 2 Axes>"
            ]
          },
          "metadata": {
            "needs_background": "light"
          }
        }
      ]
    },
    {
      "cell_type": "code",
      "metadata": {
        "colab": {
          "base_uri": "https://localhost:8080/",
          "height": 383
        },
        "id": "fVgpl-UraXmx",
        "outputId": "efaf883c-9429-4096-9f5c-a91305af4b1f"
      },
      "source": [
        "y_true_raw=y[0]\n",
        "y_pred_raw=predictions[0][0]\n",
        "\n",
        "C=confusion_matrix(y_true_raw, y_pred_raw)\n",
        "plot_confusion_matrix(svm_models[3],balanced_data[0][2], y_true_raw) \n",
        "plt.title(\"Confusion Matrix R Oversampling Data SVM\")\n",
        "plt.show()"
      ],
      "id": "fVgpl-UraXmx",
      "execution_count": null,
      "outputs": [
        {
          "output_type": "stream",
          "name": "stderr",
          "text": [
            "/usr/local/lib/python3.7/dist-packages/sklearn/utils/deprecation.py:87: FutureWarning: Function plot_confusion_matrix is deprecated; Function `plot_confusion_matrix` is deprecated in 1.0 and will be removed in 1.2. Use one of the class methods: ConfusionMatrixDisplay.from_predictions or ConfusionMatrixDisplay.from_estimator.\n",
            "  warnings.warn(msg, category=FutureWarning)\n",
            "/usr/local/lib/python3.7/dist-packages/sklearn/base.py:439: UserWarning: X has feature names, but SVC was fitted without feature names\n",
            "  f\"X has feature names, but {self.__class__.__name__} was fitted without\"\n"
          ]
        },
        {
          "output_type": "display_data",
          "data": {
            "image/png": "[encoded data removed]",
            "text/plain": [
              "<Figure size 432x288 with 2 Axes>"
            ]
          },
          "metadata": {
            "needs_background": "light"
          }
        }
      ]
    },
    {
      "cell_type": "code",
      "metadata": {
        "id": "1xe7MnTK1kko"
      },
      "source": [
        "C2 / C2.astype(np.float).sum(axis=1)"
      ],
      "id": "1xe7MnTK1kko",
      "execution_count": null,
      "outputs": []
    },
    {
      "cell_type": "markdown",
      "metadata": {
        "id": "7LC3hJ79k_gY"
      },
      "source": [
        "# Roc-AUC\n"
      ],
      "id": "7LC3hJ79k_gY"
    },
    {
      "cell_type": "code",
      "metadata": {
        "colab": {
          "base_uri": "https://localhost:8080/"
        },
        "id": "a7MUspVXlB31",
        "outputId": "07d91165-875a-41e2-cecf-a700d7972c63"
      },
      "source": [
        "Roc_Raw=roc_auc_score(y[0], svm_models[0].decision_function(X[0]))\n",
        "Roc_Under=roc_auc_score(y[0], svm_models[1].decision_function(X[0]))\n",
        "Roc_Near=roc_auc_score(y[0], svm_models[2].decision_function(X[0]))\n",
        "Roc_Over=roc_auc_score(y[0], svm_models[3].decision_function(X[0]))"
      ],
      "id": "a7MUspVXlB31",
      "execution_count": null,
      "outputs": [
        {
          "output_type": "stream",
          "name": "stderr",
          "text": [
            "/usr/local/lib/python3.7/dist-packages/sklearn/base.py:488: FutureWarning: The feature names should match those that were passed during fit. Starting version 1.2, an error will be raised.\n",
            "Feature names unseen at fit time:\n",
            "- transaction_type_5\n",
            "Feature names seen at fit time, yet now missing:\n",
            "- transaction_type_5.0\n",
            "\n",
            "  warnings.warn(message, FutureWarning)\n",
            "/usr/local/lib/python3.7/dist-packages/sklearn/base.py:439: UserWarning: X has feature names, but SVC was fitted without feature names\n",
            "  f\"X has feature names, but {self.__class__.__name__} was fitted without\"\n",
            "/usr/local/lib/python3.7/dist-packages/sklearn/base.py:439: UserWarning: X has feature names, but SVC was fitted without feature names\n",
            "  f\"X has feature names, but {self.__class__.__name__} was fitted without\"\n",
            "/usr/local/lib/python3.7/dist-packages/sklearn/base.py:439: UserWarning: X has feature names, but SVC was fitted without feature names\n",
            "  f\"X has feature names, but {self.__class__.__name__} was fitted without\"\n"
          ]
        }
      ]
    },
    {
      "cell_type": "code",
      "metadata": {
        "colab": {
          "base_uri": "https://localhost:8080/"
        },
        "id": "Jr4SLvzqjh8g",
        "outputId": "0cca4bce-1cf1-464c-9710-390e5839d1cf"
      },
      "source": [
        "print(\"Roc-AUC SVM with Raw:\")\n",
        "print(Roc_Raw)\n",
        "print(\"\\n\"+\"Roc-AUC SVM with RUndesample:\")\n",
        "print(Roc_Under)\n",
        "print(\"\\n\"+\"Roc-AUC SVM with Near-Miss 1 Undersample:\")\n",
        "print(Roc_Near)\n",
        "print(\"\\n\"+\"Roc-AUC SVM with ROversample:\")\n",
        "print(Roc_Over)"
      ],
      "id": "Jr4SLvzqjh8g",
      "execution_count": null,
      "outputs": [
        {
          "output_type": "stream",
          "name": "stdout",
          "text": [
            "Roc-AUC SVM with Raw:\n",
            "0.9799661598124176\n",
            "\n",
            "Roc-AUC SVM with RUndesample:\n",
            "0.9950804421408205\n",
            "\n",
            "Roc-AUC SVM with Near-Miss 1 Undersample:\n",
            "0.49143683324307563\n",
            "\n",
            "Roc-AUC SVM with ROversample:\n",
            "0.9999634315971334\n"
          ]
        }
      ]
    },
    {
      "cell_type": "code",
      "metadata": {
        "colab": {
          "base_uri": "https://localhost:8080/",
          "height": 472
        },
        "id": "0bhi0lZxg576",
        "outputId": "331ff05d-7ee8-41f7-cb9d-3078bd1650b1"
      },
      "source": [
        "metrics.plot_roc_curve(svm_models[0], X[0], y[0],name=\"Raw\")"
      ],
      "id": "0bhi0lZxg576",
      "execution_count": null,
      "outputs": [
        {
          "output_type": "stream",
          "name": "stderr",
          "text": [
            "/usr/local/lib/python3.7/dist-packages/sklearn/utils/deprecation.py:87: FutureWarning: Function plot_roc_curve is deprecated; Function `plot_roc_curve` is deprecated in 1.0 and will be removed in 1.2. Use one of the class methods: RocCurveDisplay.from_predictions or RocCurveDisplay.from_estimator.\n",
            "  warnings.warn(msg, category=FutureWarning)\n",
            "/usr/local/lib/python3.7/dist-packages/sklearn/base.py:488: FutureWarning: The feature names should match those that were passed during fit. Starting version 1.2, an error will be raised.\n",
            "Feature names unseen at fit time:\n",
            "- transaction_type_5\n",
            "Feature names seen at fit time, yet now missing:\n",
            "- transaction_type_5.0\n",
            "\n",
            "  warnings.warn(message, FutureWarning)\n"
          ]
        },
        {
          "output_type": "execute_result",
          "data": {
            "text/plain": [
              "<sklearn.metrics._plot.roc_curve.RocCurveDisplay at 0x7f341aae8210>"
            ]
          },
          "metadata": {},
          "execution_count": 215
        },
        {
          "output_type": "display_data",
          "data": {
            "image/png": "[encoded data removed]",
            "text/plain": [
              "<Figure size 432x288 with 1 Axes>"
            ]
          },
          "metadata": {
            "needs_background": "light"
          }
        }
      ]
    },
    {
      "cell_type": "code",
      "metadata": {
        "colab": {
          "base_uri": "https://localhost:8080/",
          "height": 385
        },
        "id": "GAuouRCNhikJ",
        "outputId": "e831a0f3-6ef0-4042-90b8-fd11ce440f74"
      },
      "source": [
        "metrics.plot_roc_curve(svm_models[1], X[0], y[0],name=\"RUndersampled\")"
      ],
      "id": "GAuouRCNhikJ",
      "execution_count": null,
      "outputs": [
        {
          "output_type": "stream",
          "name": "stderr",
          "text": [
            "/usr/local/lib/python3.7/dist-packages/sklearn/utils/deprecation.py:87: FutureWarning: Function plot_roc_curve is deprecated; Function `plot_roc_curve` is deprecated in 1.0 and will be removed in 1.2. Use one of the class methods: RocCurveDisplay.from_predictions or RocCurveDisplay.from_estimator.\n",
            "  warnings.warn(msg, category=FutureWarning)\n",
            "/usr/local/lib/python3.7/dist-packages/sklearn/base.py:439: UserWarning: X has feature names, but SVC was fitted without feature names\n",
            "  f\"X has feature names, but {self.__class__.__name__} was fitted without\"\n"
          ]
        },
        {
          "output_type": "execute_result",
          "data": {
            "text/plain": [
              "<sklearn.metrics._plot.roc_curve.RocCurveDisplay at 0x7f3417fa1350>"
            ]
          },
          "metadata": {},
          "execution_count": 218
        },
        {
          "output_type": "display_data",
          "data": {
            "image/png": "[encoded data removed]",
            "text/plain": [
              "<Figure size 432x288 with 1 Axes>"
            ]
          },
          "metadata": {
            "needs_background": "light"
          }
        }
      ]
    },
    {
      "cell_type": "code",
      "metadata": {
        "colab": {
          "base_uri": "https://localhost:8080/",
          "height": 385
        },
        "id": "vvjgIskMhoTJ",
        "outputId": "feebd2ee-9573-4461-a446-b398f082c0ab"
      },
      "source": [
        "metrics.plot_roc_curve(svm_models[2], X[0], y[0],name=\"Near Miss 1\")"
      ],
      "id": "vvjgIskMhoTJ",
      "execution_count": null,
      "outputs": [
        {
          "output_type": "stream",
          "name": "stderr",
          "text": [
            "/usr/local/lib/python3.7/dist-packages/sklearn/utils/deprecation.py:87: FutureWarning: Function plot_roc_curve is deprecated; Function `plot_roc_curve` is deprecated in 1.0 and will be removed in 1.2. Use one of the class methods: RocCurveDisplay.from_predictions or RocCurveDisplay.from_estimator.\n",
            "  warnings.warn(msg, category=FutureWarning)\n",
            "/usr/local/lib/python3.7/dist-packages/sklearn/base.py:439: UserWarning: X has feature names, but SVC was fitted without feature names\n",
            "  f\"X has feature names, but {self.__class__.__name__} was fitted without\"\n"
          ]
        },
        {
          "output_type": "execute_result",
          "data": {
            "text/plain": [
              "<sklearn.metrics._plot.roc_curve.RocCurveDisplay at 0x7f3417e85cd0>"
            ]
          },
          "metadata": {},
          "execution_count": 216
        },
        {
          "output_type": "display_data",
          "data": {
            "image/png": "[encoded data removed]",
            "text/plain": [
              "<Figure size 432x288 with 1 Axes>"
            ]
          },
          "metadata": {
            "needs_background": "light"
          }
        }
      ]
    },
    {
      "cell_type": "code",
      "metadata": {
        "colab": {
          "base_uri": "https://localhost:8080/",
          "height": 385
        },
        "id": "-PmWMKMrhpgZ",
        "outputId": "f9713bce-7c34-48f1-f03c-e192fa285139"
      },
      "source": [
        "metrics.plot_roc_curve(svm_models[3], X[0], y[0],name=\"ROversampled\")"
      ],
      "id": "-PmWMKMrhpgZ",
      "execution_count": null,
      "outputs": [
        {
          "output_type": "stream",
          "name": "stderr",
          "text": [
            "/usr/local/lib/python3.7/dist-packages/sklearn/utils/deprecation.py:87: FutureWarning: Function plot_roc_curve is deprecated; Function `plot_roc_curve` is deprecated in 1.0 and will be removed in 1.2. Use one of the class methods: RocCurveDisplay.from_predictions or RocCurveDisplay.from_estimator.\n",
            "  warnings.warn(msg, category=FutureWarning)\n",
            "/usr/local/lib/python3.7/dist-packages/sklearn/base.py:439: UserWarning: X has feature names, but SVC was fitted without feature names\n",
            "  f\"X has feature names, but {self.__class__.__name__} was fitted without\"\n"
          ]
        },
        {
          "output_type": "execute_result",
          "data": {
            "text/plain": [
              "<sklearn.metrics._plot.roc_curve.RocCurveDisplay at 0x7f3417f58590>"
            ]
          },
          "metadata": {},
          "execution_count": 217
        },
        {
          "output_type": "display_data",
          "data": {
            "image/png": "[encoded data removed]",
            "text/plain": [
              "<Figure size 432x288 with 1 Axes>"
            ]
          },
          "metadata": {
            "needs_background": "light"
          }
        }
      ]
    },
    {
      "cell_type": "code",
      "metadata": {
        "id": "wsmHhLOqm9XN"
      },
      "source": [
        "def plot_learning_curve(\n",
        "    estimator,\n",
        "    title,\n",
        "    X,\n",
        "    y,\n",
        "    axes=None,\n",
        "    ylim=None,\n",
        "    cv=None,\n",
        "    n_jobs=None,\n",
        "    train_sizes=np.linspace(0.1, 1.0, 5),\n",
        "):\n",
        "    if axes is None:\n",
        "        _, axes = plt.subplots(1, 3, figsize=(20, 5))\n",
        "\n",
        "    axes[0].set_title(title)\n",
        "    if ylim is not None:\n",
        "        axes[0].set_ylim(*ylim)\n",
        "    axes[0].set_xlabel(\"Training examples\")\n",
        "    axes[0].set_ylabel(\"Score\")\n",
        "\n",
        "    train_sizes, train_scores, test_scores, fit_times, _ = learning_curve(\n",
        "        estimator,\n",
        "        X,\n",
        "        y,\n",
        "        cv=cv,\n",
        "        n_jobs=n_jobs,\n",
        "        train_sizes=train_sizes,\n",
        "        return_times=True,\n",
        "    )\n",
        "    train_scores_mean = np.mean(train_scores, axis=1)\n",
        "    train_scores_std = np.std(train_scores, axis=1)\n",
        "    test_scores_mean = np.mean(test_scores, axis=1)\n",
        "    test_scores_std = np.std(test_scores, axis=1)\n",
        "    fit_times_mean = np.mean(fit_times, axis=1)\n",
        "    fit_times_std = np.std(fit_times, axis=1)\n",
        "\n",
        "    # Plot learning curve\n",
        "    axes[0].grid()\n",
        "    axes[0].fill_between(\n",
        "        train_sizes,\n",
        "        train_scores_mean - train_scores_std,\n",
        "        train_scores_mean + train_scores_std,\n",
        "        alpha=0.1,\n",
        "        color=\"r\",\n",
        "    )\n",
        "    axes[0].fill_between(\n",
        "        train_sizes,\n",
        "        test_scores_mean - test_scores_std,\n",
        "        test_scores_mean + test_scores_std,\n",
        "        alpha=0.1,\n",
        "        color=\"g\",\n",
        "    )\n",
        "    axes[0].plot(\n",
        "        train_sizes, train_scores_mean, \"o-\", color=\"r\", label=\"Training score\"\n",
        "    )\n",
        "    axes[0].plot(\n",
        "        train_sizes, test_scores_mean, \"o-\", color=\"g\", label=\"Cross-validation score\"\n",
        "    )\n",
        "    axes[0].legend(loc=\"best\")\n",
        "\n",
        "    # Plot n_samples vs fit_times\n",
        "    axes[1].grid()\n",
        "    axes[1].plot(train_sizes, fit_times_mean, \"o-\")\n",
        "    axes[1].fill_between(\n",
        "        train_sizes,\n",
        "        fit_times_mean - fit_times_std,\n",
        "        fit_times_mean + fit_times_std,\n",
        "        alpha=0.1,\n",
        "    )\n",
        "    axes[1].set_xlabel(\"Training examples\")\n",
        "    axes[1].set_ylabel(\"fit_times\")\n",
        "    axes[1].set_title(\"Scalability of the model\")\n",
        "\n",
        "    # Plot fit_time vs score\n",
        "    axes[2].grid()\n",
        "    axes[2].plot(fit_times_mean, test_scores_mean, \"o-\")\n",
        "    axes[2].fill_between(\n",
        "        fit_times_mean,\n",
        "        test_scores_mean - test_scores_std,\n",
        "        test_scores_mean + test_scores_std,\n",
        "        alpha=0.1,\n",
        "    )\n",
        "    axes[2].set_xlabel(\"fit_times\")\n",
        "    axes[2].set_ylabel(\"Score\")\n",
        "    axes[2].set_title(\"Performance of the model\")\n",
        "\n",
        "    return plt"
      ],
      "id": "wsmHhLOqm9XN",
      "execution_count": null,
      "outputs": []
    },
    {
      "cell_type": "code",
      "metadata": {
        "id": "bJRZxAPQneUl"
      },
      "source": [
        "model = SVC(kernel='rbf', C=1E8)\n",
        "plot_learning_curve(model,\"Curva de aprendizaje SVM RAW\",X[0],y[0])"
      ],
      "id": "bJRZxAPQneUl",
      "execution_count": null,
      "outputs": []
    },
    {
      "cell_type": "code",
      "metadata": {
        "id": "WNhRy8-qo4Yd",
        "colab": {
          "base_uri": "https://localhost:8080/",
          "height": 368
        },
        "outputId": "c485fe69-08b1-4764-fed6-0c84359df1fa"
      },
      "source": [
        "model = SVC(kernel='rbf', C=1E8)\n",
        "plot_learning_curve(model,\"Curva de aprendizaje SVM RUndersampled\",balanced_data[0][0],balanced_data[0][1])"
      ],
      "id": "WNhRy8-qo4Yd",
      "execution_count": null,
      "outputs": [
        {
          "output_type": "execute_result",
          "data": {
            "text/plain": [
              "<module 'matplotlib.pyplot' from '/usr/local/lib/python3.7/dist-packages/matplotlib/pyplot.py'>"
            ]
          },
          "metadata": {},
          "execution_count": 33
        },
        {
          "output_type": "display_data",
          "data": {
            "image/png": "[encoded data removed]",
            "text/plain": [
              "<Figure size 1440x360 with 3 Axes>"
            ]
          },
          "metadata": {
            "needs_background": "light"
          }
        }
      ]
    },
    {
      "cell_type": "code",
      "metadata": {
        "colab": {
          "base_uri": "https://localhost:8080/",
          "height": 368
        },
        "id": "cpiNJDMto4qL",
        "outputId": "c7d1da92-e62d-4f95-9c9a-8a5b508b24c9"
      },
      "source": [
        "plot_learning_curve(model,\"Curva de aprendizaje SVM Near Miss\",balanced_data[1][0],balanced_data[1][1])"
      ],
      "id": "cpiNJDMto4qL",
      "execution_count": null,
      "outputs": [
        {
          "output_type": "execute_result",
          "data": {
            "text/plain": [
              "<module 'matplotlib.pyplot' from '/usr/local/lib/python3.7/dist-packages/matplotlib/pyplot.py'>"
            ]
          },
          "metadata": {},
          "execution_count": 35
        },
        {
          "output_type": "display_data",
          "data": {
            "image/png": "[encoded data removed]",
            "text/plain": [
              "<Figure size 1440x360 with 3 Axes>"
            ]
          },
          "metadata": {
            "needs_background": "light"
          }
        }
      ]
    },
    {
      "cell_type": "code",
      "metadata": {
        "colab": {
          "base_uri": "https://localhost:8080/"
        },
        "id": "KKuGpJ5Oo40T",
        "outputId": "b7a5f58f-fa1f-443d-a111-23ed9badaa65"
      },
      "source": [
        "plot_learning_curve(model,\"Curva de aprendizaje SVM ROversampled\",balanced_data[2][0],balanced_data[2][1])"
      ],
      "id": "KKuGpJ5Oo40T",
      "execution_count": null,
      "outputs": [
        {
          "output_type": "execute_result",
          "data": {
            "text/plain": [
              "<module 'matplotlib.pyplot' from '/usr/local/lib/python3.7/dist-packages/matplotlib/pyplot.py'>"
            ]
          },
          "metadata": {},
          "execution_count": 37
        },
        {
          "output_type": "display_data",
          "data": {
            "image/png": "[encoded data removed]",
            "text/plain": [
              "<Figure size 1440x360 with 3 Axes>"
            ]
          },
          "metadata": {
            "needs_background": "light"
          }
        }
      ]
    }
  ]
}